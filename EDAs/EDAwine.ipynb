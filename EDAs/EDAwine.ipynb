{
 "cells": [
  {
   "cell_type": "markdown",
   "id": "5ba5628b",
   "metadata": {},
   "source": [
    "# If i want to use a big dataframe of all wines"
   ]
  },
  {
   "cell_type": "code",
   "execution_count": 1,
   "id": "98068336",
   "metadata": {},
   "outputs": [
    {
     "name": "stdout",
     "output_type": "stream",
     "text": [
      "   fixed acidity  volatile acidity  citric acid  residual sugar  chlorides  \\\n",
      "0            7.4              0.70         0.00             1.9      0.076   \n",
      "1            7.8              0.88         0.00             2.6      0.098   \n",
      "2            7.8              0.76         0.04             2.3      0.092   \n",
      "3           11.2              0.28         0.56             1.9      0.075   \n",
      "4            7.4              0.70         0.00             1.9      0.076   \n",
      "5            7.4              0.66         0.00             1.8      0.075   \n",
      "6            7.9              0.60         0.06             1.6      0.069   \n",
      "7            7.3              0.65         0.00             1.2      0.065   \n",
      "8            7.8              0.58         0.02             2.0      0.073   \n",
      "9            7.5              0.50         0.36             6.1      0.071   \n",
      "\n",
      "   free sulfur dioxide  total sulfur dioxide  density    pH  sulphates  \\\n",
      "0                 11.0                  34.0   0.9978  3.51       0.56   \n",
      "1                 25.0                  67.0   0.9968  3.20       0.68   \n",
      "2                 15.0                  54.0   0.9970  3.26       0.65   \n",
      "3                 17.0                  60.0   0.9980  3.16       0.58   \n",
      "4                 11.0                  34.0   0.9978  3.51       0.56   \n",
      "5                 13.0                  40.0   0.9978  3.51       0.56   \n",
      "6                 15.0                  59.0   0.9964  3.30       0.46   \n",
      "7                 15.0                  21.0   0.9946  3.39       0.47   \n",
      "8                  9.0                  18.0   0.9968  3.36       0.57   \n",
      "9                 17.0                 102.0   0.9978  3.35       0.80   \n",
      "\n",
      "   alcohol  quality type  \n",
      "0      9.4        5  red  \n",
      "1      9.8        5  red  \n",
      "2      9.8        5  red  \n",
      "3      9.8        6  red  \n",
      "4      9.4        5  red  \n",
      "5      9.4        5  red  \n",
      "6      9.4        5  red  \n",
      "7     10.0        7  red  \n",
      "8      9.5        7  red  \n",
      "9     10.5        5  red  \n",
      "(6497, 13)\n"
     ]
    }
   ],
   "source": [
    "import pandas as pd\n",
    "#from ydata_profiling import ProfileReport\n",
    "\n",
    "\n",
    "red   = pd.read_csv('winequality-red.csv',   sep=';')\n",
    "white = pd.read_csv('winequality-white.csv', sep=';')\n",
    "\n",
    "red['type'] = 'red'\n",
    "white['type'] = 'white'\n",
    "red.to_csv('red_alone.csv', index=False, sep=',')\n",
    "white.to_csv('white_alone.csv', index=False, sep=',')\n",
    "all_wines = pd.concat([red, white], ignore_index=True, sort=False)\n",
    "all_wines.to_csv('allwines.csv', index=False, sep=',')\n",
    "\n",
    "print(all_wines.head(10))\n",
    "print(all_wines.shape)\n",
    "\n",
    "\n",
    "#profile = ProfileReport(all_wines, title=\"Profiling Report\")\n",
    "#profile.to_file(\"EDA_wines.html\")\n"
   ]
  },
  {
   "cell_type": "markdown",
   "id": "62883b4a",
   "metadata": {},
   "source": [
    "# Separated"
   ]
  },
  {
   "cell_type": "code",
   "execution_count": 8,
   "id": "50d569a0",
   "metadata": {},
   "outputs": [
    {
     "name": "stderr",
     "output_type": "stream",
     "text": [
      "100%|██████████| 12/12 [00:00<?, ?it/s]17 [00:00<00:00, 63.36it/s, Describe variable: quality]\n",
      "Summarize dataset: 100%|██████████| 165/165 [00:19<00:00,  8.39it/s, Completed]                                        \n",
      "Generate report structure: 100%|██████████| 1/1 [00:04<00:00,  4.08s/it]\n",
      "Render HTML: 100%|██████████| 1/1 [00:03<00:00,  3.49s/it]\n",
      "Export report to file: 100%|██████████| 1/1 [00:00<00:00, 28.25it/s]\n",
      "100%|██████████| 12/12 [00:00<00:00, 6003.30it/s]0:00, 12.08it/s, Describe variable: quality]  \n",
      "Summarize dataset: 100%|██████████| 165/165 [00:18<00:00,  8.98it/s, Completed]                                        \n",
      "Generate report structure: 100%|██████████| 1/1 [00:03<00:00,  3.50s/it]\n",
      "Render HTML: 100%|██████████| 1/1 [00:03<00:00,  3.40s/it]\n",
      "Export report to file: 100%|██████████| 1/1 [00:00<00:00, 31.92it/s]\n"
     ]
    }
   ],
   "source": [
    "import pandas as pd\n",
    "from ydata_profiling import ProfileReport\n",
    "\n",
    "\n",
    "red   = pd.read_csv('winequality-red.csv',   sep=';')\n",
    "white = pd.read_csv('winequality-white.csv', sep=';')\n",
    "\n",
    "profile = ProfileReport(red, title=\"Profiling Report red wine\")\n",
    "profile.to_file(\"Exploratory analysis red wine.html\")\n",
    "profile = ProfileReport(white, title=\"Profiling Report white wine\")\n",
    "profile.to_file(\"Exploratory analysis white wine.html\")\n",
    "\n"
   ]
  }
 ],
 "metadata": {
  "kernelspec": {
   "display_name": "Python 3",
   "language": "python",
   "name": "python3"
  },
  "language_info": {
   "codemirror_mode": {
    "name": "ipython",
    "version": 3
   },
   "file_extension": ".py",
   "mimetype": "text/x-python",
   "name": "python",
   "nbconvert_exporter": "python",
   "pygments_lexer": "ipython3",
   "version": "3.10.9"
  }
 },
 "nbformat": 4,
 "nbformat_minor": 5
}
